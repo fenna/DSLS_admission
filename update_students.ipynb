{
 "cells": [
  {
   "cell_type": "markdown",
   "metadata": {},
   "source": [
    "# Process script\n",
    "\n",
    "Dit is een script dat het totaal bestand bijwerkt met afmelders en aanmelders. Als laatste geeft het een totaal overzicht van geaccepteerde studenten en te processen studenten. Stappen:\n",
    "\n",
    "1. Download dit script\n",
    "2. Download stad files\n",
    "3. Pas config.yaml aan met stad files bestandnamen\n",
    "3. Run script door Kernel | Restart & Run All"
   ]
  },
  {
   "cell_type": "code",
   "execution_count": null,
   "metadata": {},
   "outputs": [],
   "source": [
    "import pandas as pd\n",
    "import numpy as np\n",
    "import yaml"
   ]
  },
  {
   "cell_type": "code",
   "execution_count": null,
   "metadata": {},
   "outputs": [],
   "source": [
    "with open('config.yaml') as f:\n",
    "        config = yaml.load(f, Loader=yaml.FullLoader)\n",
    "        print(config)"
   ]
  },
  {
   "cell_type": "code",
   "execution_count": null,
   "metadata": {
    "scrolled": true
   },
   "outputs": [],
   "source": [
    "#inladen totaal bestand. Dit is een bestand voor eigen registratie\n",
    "df_totaal = pd.read_csv(config['totaal'], sep = \";\", infer_datetime_format=True)\n",
    "cols = ['student','status','achternaam','voornaam', 'hanze_mail','mail', 'land']\n",
    "df_totaal = df_totaal[cols]\n",
    "df_totaal = df_totaal.fillna(0)\n",
    "print(f\"aantal aanmelders {len(df_totaal)}\")"
   ]
  },
  {
   "cell_type": "markdown",
   "metadata": {},
   "source": [
    "# Check afmelders\n",
    "Hernoem het nieuwe afmeldbestand naar Afmeldbestand.xlsx. Run daarna het merge script om te kijken welke student zich afgemeld heeft sinds de laatste keer"
   ]
  },
  {
   "cell_type": "code",
   "execution_count": null,
   "metadata": {},
   "outputs": [],
   "source": [
    "def check_afmelders():\n",
    "    df_afmeld = pd.read_excel(config['afmeld'])\n",
    "    df_todelete = df_afmeld.merge(df_totaal, left_on='Studentnummer', right_on='student')\n",
    "    print(\"Studenten die zich afgemeld hebben sinds de laatste keer:\\n\")\n",
    "    cols = ['Studentnummer', 'Roepnaam','Achternaam']\n",
    "    print(df_todelete[cols])\n",
    "    return df_todelete"
   ]
  },
  {
   "cell_type": "code",
   "execution_count": null,
   "metadata": {},
   "outputs": [],
   "source": [
    "df_todelete = check_afmelders()"
   ]
  },
  {
   "cell_type": "markdown",
   "metadata": {},
   "source": [
    "# Update totaal bestand\n",
    "Het totaal bestand wordt bijgewerkt door de afmelder te verwijderen"
   ]
  },
  {
   "cell_type": "code",
   "execution_count": null,
   "metadata": {},
   "outputs": [],
   "source": [
    "def update_total_rm(df_remove, df_totaal):\n",
    "    print(f\"totaal aantal aanmelders voor verwijdering: {len(df_totaal)}\")\n",
    "    x = df_remove['Studentnummer'].tolist()\n",
    "    print(f\"te verwijderen studenten: {x}\")\n",
    "    df_totaal = df_totaal[~df_totaal['student'].isin(x)]\n",
    "    print(f\"totaal aantal aanmelders na verwijdering: {len(df_totaal)}\")\n",
    "    return df_totaal"
   ]
  },
  {
   "cell_type": "code",
   "execution_count": null,
   "metadata": {},
   "outputs": [],
   "source": [
    "df_totaal = update_total_rm(df_todelete, df_totaal)\n",
    "df_totaal.to_csv(config['totaal'], encoding='utf-8', index=False, sep =\";\")"
   ]
  },
  {
   "cell_type": "markdown",
   "metadata": {},
   "source": [
    "# Check aanmelders"
   ]
  },
  {
   "cell_type": "code",
   "execution_count": null,
   "metadata": {},
   "outputs": [],
   "source": [
    "def check_aanmelders():\n",
    "    df_aanmeld = pd.read_excel(config['aanmeld'])\n",
    "    df_aanmeld = df_aanmeld[df_aanmeld['Opleiding (Code)'] == 'DS']\n",
    "    if len(df_aanmeld) == 0:\n",
    "        print(\"geen nieuwe aanmelders\")\n",
    "    else:\n",
    "        cols = ['Studentnummer', 'Roepnaam','Achternaam']\n",
    "        print(df_aanmeld[cols])\n",
    "    return df_aanmeld"
   ]
  },
  {
   "cell_type": "code",
   "execution_count": null,
   "metadata": {},
   "outputs": [],
   "source": [
    "df_new = check_aanmelders()"
   ]
  },
  {
   "cell_type": "code",
   "execution_count": null,
   "metadata": {},
   "outputs": [],
   "source": [
    "def reformat_new(df_new):\n",
    "    cols = ['student','status','achternaam','voornaam', 'hanze_mail','mail', 'land']\n",
    "    df_new = df_new.rename(columns={'Studentnummer': 'student', \n",
    "                                    'Achternaam': 'achternaam',\n",
    "                                    'Roepnaam':'voornaam',\n",
    "                                    'E-mail adres': 'hanze_mail',\n",
    "                                    'Studielink email adres':'mail',\n",
    "                                    'Nationaliteit (omschrijving)':'land'\n",
    "                                   })\n",
    "    df_new['status'] = \"to review\"\n",
    "    df_new = df_new[cols]\n",
    "    return df_new"
   ]
  },
  {
   "cell_type": "code",
   "execution_count": null,
   "metadata": {
    "scrolled": true
   },
   "outputs": [],
   "source": [
    "df_new = reformat_new(df_new)\n",
    "df_new"
   ]
  },
  {
   "cell_type": "markdown",
   "metadata": {},
   "source": [
    "# Voeg nieuwe aanmelders toe"
   ]
  },
  {
   "cell_type": "code",
   "execution_count": null,
   "metadata": {},
   "outputs": [],
   "source": [
    "def update_total_add(df_new, df_totaal):\n",
    "    print(f\"totaal aantal aanmelders voor toevoeging: {len(df_totaal)}\")\n",
    "    x = df_new['student'].tolist()\n",
    "    print(f\"toe te voegen studenten: {x}\")\n",
    "    df_totaal = pd.concat([df_totaal, df_new])\n",
    "    print(f\"totaal aantal aanmelders na toevoeging: {len(df_totaal)}\")\n",
    "    return df_totaal"
   ]
  },
  {
   "cell_type": "code",
   "execution_count": null,
   "metadata": {},
   "outputs": [],
   "source": [
    "df_totaal = update_total_add(df_new, df_totaal)\n",
    "df_totaal.to_csv(config['totaal'], encoding='utf-8', index=False, sep =\";\")"
   ]
  },
  {
   "cell_type": "markdown",
   "metadata": {},
   "source": [
    "# Check totaal bestand vanuit STAD"
   ]
  },
  {
   "cell_type": "code",
   "execution_count": null,
   "metadata": {},
   "outputs": [],
   "source": [
    "def check_total(df_totaal):\n",
    "    df = pd.read_excel(config['totaal_stad'])\n",
    "    df = df[df['Opleiding (Code)'] == 'DS']\n",
    "    if len(df) != len(df_totaal):\n",
    "        print(\"STAD heeft een ander totaal overzicht dan de opleiding\")"
   ]
  },
  {
   "cell_type": "code",
   "execution_count": null,
   "metadata": {},
   "outputs": [],
   "source": [
    "check_total(df_totaal)"
   ]
  },
  {
   "cell_type": "markdown",
   "metadata": {},
   "source": [
    "# Overzichten"
   ]
  },
  {
   "cell_type": "markdown",
   "metadata": {},
   "source": [
    "## Toegelaten studenten"
   ]
  },
  {
   "cell_type": "code",
   "execution_count": null,
   "metadata": {
    "scrolled": true
   },
   "outputs": [],
   "source": [
    "df = df_totaal\n",
    "df_loa = df[(df['status'] == \"LOA\") & (df['land'] == 'Nederlandse')]\n",
    "df_loa"
   ]
  },
  {
   "cell_type": "code",
   "execution_count": null,
   "metadata": {},
   "outputs": [],
   "source": [
    "df_loa_nnl = df[(df['status'] == \"LOA\") & (df['land'] != 'Nederlandse')]\n",
    "df_loa_nnl"
   ]
  },
  {
   "cell_type": "code",
   "execution_count": null,
   "metadata": {},
   "outputs": [],
   "source": [
    "df_lopa = df[(df['status'] == \"LOPA\") & (df['land'] == 'Nederlandse')]\n",
    "df_lopa"
   ]
  },
  {
   "cell_type": "code",
   "execution_count": null,
   "metadata": {
    "scrolled": true
   },
   "outputs": [],
   "source": [
    "df_lopa_nnl = df[(df['status'] == \"LOPA\") & (df['land'] != 'Nederlandse')]\n",
    "df_lopa_nnl"
   ]
  },
  {
   "cell_type": "markdown",
   "metadata": {},
   "source": [
    "--- "
   ]
  },
  {
   "cell_type": "markdown",
   "metadata": {},
   "source": [
    "## Studenten die een entrance test moeten doen"
   ]
  },
  {
   "cell_type": "code",
   "execution_count": null,
   "metadata": {
    "scrolled": true
   },
   "outputs": [],
   "source": [
    "df_et = df[df.status.str.contains('ET')]\n",
    "df_et"
   ]
  },
  {
   "cell_type": "markdown",
   "metadata": {},
   "source": [
    "--- \n",
    "## Studenten die nog geprocessed moeten worden"
   ]
  },
  {
   "cell_type": "code",
   "execution_count": null,
   "metadata": {
    "scrolled": false
   },
   "outputs": [],
   "source": [
    "df_to_process = df[(df['status'] != \"LOPA\") & (df['status'] != \"LOA\") & (~df.status.str.contains('ET'))]\n",
    "df_to_process"
   ]
  },
  {
   "cell_type": "markdown",
   "metadata": {},
   "source": [
    "## Totaal overzicht"
   ]
  },
  {
   "cell_type": "code",
   "execution_count": null,
   "metadata": {},
   "outputs": [],
   "source": [
    "df.status.value_counts().plot(kind='barh')"
   ]
  },
  {
   "cell_type": "code",
   "execution_count": null,
   "metadata": {},
   "outputs": [],
   "source": [
    "print(\"_\"*70)\n",
    "print(f\"Er zijn {len(df_loa)} NL aanmeldingen toegelaten en {len(df_loa_nnl)} non-NL\")\n",
    "print(f\"Er zijn {len(df_lopa)} NL aanmeldingen voorwaardelijk toegelaten en {len(df_lopa_nnl)} non-NL\")\n",
    "print(f\"\\ntotaal (voorwaardelijk) toegelaten: {len(df_loa) + len(df_lopa) + len(df_loa_nnl) + len(df_lopa_nnl)}\")\n",
    "print(\"_\"*70)\n",
    "print(f\"\\nDe volgende studenten moeten een entrance toets doen:\\n\")\n",
    "print(df_et[['student', 'voornaam', 'achternaam','status']])\n",
    "print(f\"\\ntotaal entrance test: {len(df_et)}\")\n",
    "print(\"_\"*70)\n",
    "print(f\"\\nNog te processen studenten: {len(df_to_process)}\")\n",
    "print(\"_\"*70)\n",
    "print(f\"totaal scenario\\nmin: {len(df_loa) + len(df_lopa) + 2} (NL + 2 non NL beurzen) \\nmax: {len(df_loa) + len(df_lopa) + len(df_loa_nnl) + len(df_lopa_nnl) + len(df_et) + len(df_to_process)}\")"
   ]
  }
 ],
 "metadata": {
  "kernelspec": {
   "display_name": "Python 3",
   "language": "python",
   "name": "python3"
  },
  "language_info": {
   "codemirror_mode": {
    "name": "ipython",
    "version": 3
   },
   "file_extension": ".py",
   "mimetype": "text/x-python",
   "name": "python",
   "nbconvert_exporter": "python",
   "pygments_lexer": "ipython3",
   "version": "3.8.1"
  }
 },
 "nbformat": 4,
 "nbformat_minor": 4
}
